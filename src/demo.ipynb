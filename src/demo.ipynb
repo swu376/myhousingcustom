{
 "cells": [
  {
   "cell_type": "code",
   "execution_count": 1,
   "metadata": {},
   "outputs": [],
   "source": [
    "from webdriver_manager.chrome import ChromeDriverManager\n",
    "from selenium.webdriver.chrome.service import Service as ChromeService\n",
    "from selenium import webdriver\n",
    "from selenium.webdriver.chrome.options import Options\n",
    "\n",
    "from selenium.webdriver.support import expected_conditions as EC\n",
    "from selenium.webdriver.support.ui import WebDriverWait\n",
    "from selenium.webdriver.common.by import By\n",
    "\n",
    "service = ChromeService(ChromeDriverManager().install()) \n",
    "options = Options()\n",
    "options.add_argument('--headless')\n",
    "options.add_argument('add_argument(\"user-agent=Mozilla/5.0 (Windows NT 10.0; Win64; x64) AppleWebKit/537.36 (KHTML, like Gecko) Chrome/92.0.4515.159 Safari/537.36\")')\n",
    "options.add_argument('--no-sandbox')\n",
    "options.add_argument('add_argument(\"accept=text/html,application/xhtml+xml,application/xml;q=0.9,image/webp,*/*;q=0.8\")')\n",
    "\n",
    "driver = webdriver.Chrome(service=service, options=options)"
   ]
  },
  {
   "cell_type": "code",
   "execution_count": 6,
   "metadata": {},
   "outputs": [],
   "source": [
    "import urllib.request\n",
    "import random\n",
    "\n",
    "import ssl\n",
    "\n",
    "def get_res(url):\n",
    "  username = 'brd-customer-hl_48feb069-zone-unblocker'\n",
    "  password = 'pi28itx69so5'\n",
    "  port = 22225\n",
    "  session_id = random.random()\n",
    "  super_proxy_url = ('http://%s-session-%s:%s@zproxy.lum-superproxy.io:%d' %\n",
    "      (username, session_id, password, port))\n",
    "  proxy_handler = urllib.request.ProxyHandler({\n",
    "      'http': super_proxy_url,\n",
    "      'https': super_proxy_url,\n",
    "  })\n",
    "  opener = urllib.request.build_opener(proxy_handler)\n",
    "  print('Performing request')\n",
    "  print(opener.open(url).read().decode('utf8'))"
   ]
  },
  {
   "cell_type": "code",
   "execution_count": null,
   "metadata": {},
   "outputs": [],
   "source": [
    "from bs4 import BeautifulSoup\n",
    "\n",
    "soup = BeautifulSoup(get_res('https://www.baumhausapts.com/floorplans'), 'html.parser')"
   ]
  },
  {
   "cell_type": "code",
   "execution_count": 15,
   "metadata": {},
   "outputs": [
    {
     "ename": "TimeoutException",
     "evalue": "Message: \nStacktrace:\n#0 0x55dec252a2c3 <unknown>\n#1 0x55dec233383a <unknown>\n#2 0x55dec236c985 <unknown>\n#3 0x55dec236cb61 <unknown>\n#4 0x55dec23a4d14 <unknown>\n#5 0x55dec238af6d <unknown>\n#6 0x55dec23a2a50 <unknown>\n#7 0x55dec238ad63 <unknown>\n#8 0x55dec235f7e3 <unknown>\n#9 0x55dec2360a21 <unknown>\n#10 0x55dec257818e <unknown>\n#11 0x55dec257b622 <unknown>\n#12 0x55dec255eaae <unknown>\n#13 0x55dec257c2a3 <unknown>\n#14 0x55dec2552ecf <unknown>\n#15 0x55dec259c588 <unknown>\n#16 0x55dec259c706 <unknown>\n#17 0x55dec25b68b2 <unknown>\n#18 0x7f11e1aaf609 <unknown>\n",
     "output_type": "error",
     "traceback": [
      "\u001b[0;31m---------------------------------------------------------------------------\u001b[0m",
      "\u001b[0;31mTimeoutException\u001b[0m                          Traceback (most recent call last)",
      "\u001b[1;32m/home/charles/project/myhousingcustom/src/demo.ipynb Cell 2\u001b[0m in \u001b[0;36m<cell line: 5>\u001b[0;34m()\u001b[0m\n\u001b[1;32m      <a href='vscode-notebook-cell://wsl%2Bubuntu-20.04/home/charles/project/myhousingcustom/src/demo.ipynb#X11sdnNjb2RlLXJlbW90ZQ%3D%3D?line=1'>2</a>\u001b[0m driver\u001b[39m.\u001b[39mget(url)\n\u001b[1;32m      <a href='vscode-notebook-cell://wsl%2Bubuntu-20.04/home/charles/project/myhousingcustom/src/demo.ipynb#X11sdnNjb2RlLXJlbW90ZQ%3D%3D?line=3'>4</a>\u001b[0m wait \u001b[39m=\u001b[39m WebDriverWait(driver, \u001b[39m10\u001b[39m)\n\u001b[0;32m----> <a href='vscode-notebook-cell://wsl%2Bubuntu-20.04/home/charles/project/myhousingcustom/src/demo.ipynb#X11sdnNjb2RlLXJlbW90ZQ%3D%3D?line=4'>5</a>\u001b[0m verify_checkbox \u001b[39m=\u001b[39m wait\u001b[39m.\u001b[39;49muntil(EC\u001b[39m.\u001b[39;49melement_to_be_clickable((By\u001b[39m.\u001b[39;49mCSS_SELECTOR, \u001b[39m'\u001b[39;49m\u001b[39minput[name=\u001b[39;49m\u001b[39m\"\u001b[39;49m\u001b[39mcaptcha-checkbox\u001b[39;49m\u001b[39m\"\u001b[39;49m\u001b[39m]\u001b[39;49m\u001b[39m'\u001b[39;49m)))\n\u001b[1;32m      <a href='vscode-notebook-cell://wsl%2Bubuntu-20.04/home/charles/project/myhousingcustom/src/demo.ipynb#X11sdnNjb2RlLXJlbW90ZQ%3D%3D?line=5'>6</a>\u001b[0m verify_checkbox\u001b[39m.\u001b[39mclick()\n",
      "File \u001b[0;32m~/miniconda3/envs/housing/lib/python3.8/site-packages/selenium/webdriver/support/wait.py:95\u001b[0m, in \u001b[0;36mWebDriverWait.until\u001b[0;34m(self, method, message)\u001b[0m\n\u001b[1;32m     93\u001b[0m     \u001b[39mif\u001b[39;00m time\u001b[39m.\u001b[39mmonotonic() \u001b[39m>\u001b[39m end_time:\n\u001b[1;32m     94\u001b[0m         \u001b[39mbreak\u001b[39;00m\n\u001b[0;32m---> 95\u001b[0m \u001b[39mraise\u001b[39;00m TimeoutException(message, screen, stacktrace)\n",
      "\u001b[0;31mTimeoutException\u001b[0m: Message: \nStacktrace:\n#0 0x55dec252a2c3 <unknown>\n#1 0x55dec233383a <unknown>\n#2 0x55dec236c985 <unknown>\n#3 0x55dec236cb61 <unknown>\n#4 0x55dec23a4d14 <unknown>\n#5 0x55dec238af6d <unknown>\n#6 0x55dec23a2a50 <unknown>\n#7 0x55dec238ad63 <unknown>\n#8 0x55dec235f7e3 <unknown>\n#9 0x55dec2360a21 <unknown>\n#10 0x55dec257818e <unknown>\n#11 0x55dec257b622 <unknown>\n#12 0x55dec255eaae <unknown>\n#13 0x55dec257c2a3 <unknown>\n#14 0x55dec2552ecf <unknown>\n#15 0x55dec259c588 <unknown>\n#16 0x55dec259c706 <unknown>\n#17 0x55dec25b68b2 <unknown>\n#18 0x7f11e1aaf609 <unknown>\n"
     ]
    }
   ],
   "source": [
    "url = 'https://www.baumhausapts.com/floorplans'\n",
    "driver.get(url)\n",
    "\n",
    "wait = WebDriverWait(driver, 10)\n",
    "verify_checkbox = wait.until(EC.element_to_be_clickable((By.CSS_SELECTOR, 'input[name=\"captcha-checkbox\"]')))\n",
    "verify_checkbox.click()"
   ]
  },
  {
   "cell_type": "code",
   "execution_count": 13,
   "metadata": {},
   "outputs": [
    {
     "data": {
      "text/plain": [
       "True"
      ]
     },
     "execution_count": 13,
     "metadata": {},
     "output_type": "execute_result"
    }
   ],
   "source": [
    "driver.save_screenshot('p1.png')"
   ]
  },
  {
   "cell_type": "code",
   "execution_count": null,
   "metadata": {},
   "outputs": [],
   "source": []
  },
  {
   "cell_type": "code",
   "execution_count": 1,
   "metadata": {},
   "outputs": [],
   "source": [
    "import requests\n",
    "from bs4 import BeautifulSoup\n"
   ]
  },
  {
   "cell_type": "code",
   "execution_count": 2,
   "metadata": {},
   "outputs": [],
   "source": [
    "url = 'https://www.baumhausapts.com/floorplans'\n",
    "def get_apartments():\n",
    "    headers = {\n",
    "        'User-Agent': 'Mozilla/5.0 (Macintosh; Intel Mac OS X 10_15_7) AppleWebKit/537.36 (KHTML, like Gecko) Chrome/110.0.0.0 Safari/537.36',\n",
    "        'Accept': 'text/html,application/xhtml+xml,application/xml;q=0.9,image/webp,*/*;q=0.8',\n",
    "        'accept-encoding': 'gzip, deflate, br',\n",
    "        'accept-language': 'en-US,en;q=0.9',\n",
    "        'cache-control': 'max-age=0',\n",
    "    }\n",
    "\n",
    "    res = requests.get(url, headers=headers)\n",
    "    soup = BeautifulSoup(res.text, 'html.parser')\n",
    "    print(soup.prettify())\n",
    "\n",
    "    apartments = []\n",
    "    # for i, d in enumerate(soup.select('div.card')):\n",
    "    #     title = d.find('h2')\n",
    "    #     title = title.text.strip() if title else ''\n",
    "\n",
    "    #     des = d.find('ul')\n",
    "    #     des = ' '.join(des.text.strip().split()) if des else ''\n",
    "\n",
    "    #     availability = d.find('span', attrs={'class': 'fp-availability'})\n",
    "    #     availability = availability.text.strip() if availability else ''\n",
    "        \n",
    "    #     price = d.find('div', attrs={'class': 'p-2 fieldset bg-light border rounded d-flex flex-column align-items-center justify-content-center mb-2'})\n",
    "    #     price = ' '.join(price.text.strip().split()) if price else ''\n",
    "\n",
    "    #     print(title, des, availability, price)\n",
    "\n",
    "    #     apartments.append(Apartment(\n",
    "    #         title = title,\n",
    "    #         des = des,\n",
    "    #         availability = availability,\n",
    "    #         price = price\n",
    "    #     ))\n",
    "    return apartments"
   ]
  },
  {
   "cell_type": "code",
   "execution_count": 10,
   "metadata": {},
   "outputs": [
    {
     "name": "stdout",
     "output_type": "stream",
     "text": [
      "\n",
      "\n",
      "\n",
      "Just a moment...\n",
      "\n",
      "\n",
      "\n",
      "\n",
      "\n",
      "\n",
      "\n",
      "\n",
      "\n",
      "\n",
      "\n",
      "\n",
      "\n",
      "\n",
      "\n",
      "\n",
      "                        Enable JavaScript and cookies to continue\n",
      "                    \n",
      "\n",
      "\n",
      "\n",
      "\n",
      "\n",
      "\n",
      "\n",
      "\n",
      "\n",
      "\n",
      "\n",
      "\n",
      "\n"
     ]
    }
   ],
   "source": [
    "headers = {\n",
    "    'accept': 'text/html,application/xhtml+xml,application/xml;q=0.9,image/avif,image/webp,image/apng,*/*;q=0.8,application/signed-exchange;v=b3;q=0.9',\n",
    "    'accept-encoding': 'gzip, deflate, br',\n",
    "    'accept-language': 'en-US,en;q=0.9',\n",
    "    'cache-control': 'max-age=0',\n",
    "    'sec-ch-ua': '\"Chromium\";v=\"94\", \"Google Chrome\";v=\"94\", \";Not A Brand\";v=\"99\"',\n",
    "    'sec-ch-ua-mobile': '?0',\n",
    "    'sec-ch-ua-platform': '\"Windows\"',\n",
    "    'sec-fetch-dest': 'document',\n",
    "    'sec-fetch-mode': 'navigate',\n",
    "    'sec-fetch-site': 'same-origin',\n",
    "    'sec-fetch-user': '?1',\n",
    "    'upgrade-insecure-requests': '1',\n",
    "    'user-agent': 'Mozilla/5.0 (Windows NT 10.0; Win64; x64) AppleWebKit/537.36 (KHTML, like Gecko) Chrome/105.0.0.0 Safari/537.36',\n",
    "}\n",
    "\n",
    "res = requests.get(url, headers=headers)\n",
    "soup = BeautifulSoup(res.text, 'html.parser')\n",
    "print(soup.text)"
   ]
  },
  {
   "cell_type": "code",
   "execution_count": 43,
   "metadata": {},
   "outputs": [
    {
     "name": "stdout",
     "output_type": "stream",
     "text": [
      "1 Bedroom, 1 Bathroom\n",
      "1 Bed 1 Bath 539 Sq. Ft.\n",
      "1 Available\n",
      "Starting at $2,135 Deposit: $400\n",
      "\n",
      "Studio, 1 Bathroom\n",
      "Studio 1 Bath 361 Sq. Ft.\n",
      "\n",
      "Starting at $1,605 Deposit: $300\n",
      "\n",
      "2 Bedrooms, 2 Bathrooms\n",
      "2 Bed 2 Bath 881 Sq. Ft.\n",
      "\n",
      "Starting at $2,540 Deposit: $500\n",
      "\n",
      "3 Bedrooms, 2 Bathrooms\n",
      "3 Bed 2 Bath 1,445 Sq. Ft.\n",
      "\n",
      "Starting at $3,600 Deposit: $600\n",
      "\n",
      "2 Bedroom with Den - Furnished\n",
      "2 Bed 1 Bath 664 Sq. Ft.\n",
      "1 Available\n",
      "Starting at $2,985 Deposit: $400\n",
      "\n",
      "3 BR, 1 BA-Shared-Price for Bedroom Only\n",
      "1 Bed 1 Bath 239 Sq. Ft.\n",
      "1 Available\n",
      "Starting at $995 Deposit: $300\n",
      "\n"
     ]
    }
   ],
   "source": [
    "for i, d in enumerate(soup.select('div.card')):\n",
    "    title = d.find('h2')\n",
    "    title = title.text.strip() if title else ''\n",
    "\n",
    "    des = d.find('ul')\n",
    "    des = ' '.join(des.text.strip().split()) if des else ''\n",
    "\n",
    "    availability = d.find('span', attrs={'class': 'fp-availability'})\n",
    "    availability = availability.text.strip() if availability else ''\n",
    "    \n",
    "    price = d.find('div', attrs={'class': 'p-2 fieldset bg-light border rounded d-flex flex-column align-items-center justify-content-center mb-2'})\n",
    "    price = ' '.join(price.text.strip().split()) if price else ''\n",
    "\n",
    "    print(title, des, availability, price, sep='\\n', end='\\n\\n')"
   ]
  },
  {
   "cell_type": "code",
   "execution_count": null,
   "metadata": {},
   "outputs": [],
   "source": []
  }
 ],
 "metadata": {
  "kernelspec": {
   "display_name": "housing",
   "language": "python",
   "name": "python3"
  },
  "language_info": {
   "codemirror_mode": {
    "name": "ipython",
    "version": 3
   },
   "file_extension": ".py",
   "mimetype": "text/x-python",
   "name": "python",
   "nbconvert_exporter": "python",
   "pygments_lexer": "ipython3",
   "version": "3.8.16"
  },
  "orig_nbformat": 4,
  "vscode": {
   "interpreter": {
    "hash": "b75d1fd07564bfdab7bd121ee850c7b2a8a29e7abe575582ebb09b98e9b718db"
   }
  }
 },
 "nbformat": 4,
 "nbformat_minor": 2
}
